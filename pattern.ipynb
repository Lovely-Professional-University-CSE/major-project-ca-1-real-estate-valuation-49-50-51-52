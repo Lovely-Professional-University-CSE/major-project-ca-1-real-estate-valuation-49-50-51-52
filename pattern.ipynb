{
 "cells": [
  {
   "cell_type": "raw",
   "metadata": {},
   "source": [
    "\n",
    "print(\"  4\")\n",
    "print(\"1\")\n",
    "print(\"--\")\n",
    "print(\"3^2\")"
   ]
  },
  {
   "cell_type": "code",
   "execution_count": 18,
   "metadata": {},
   "outputs": [
    {
     "data": {
      "text/plain": [
       "'ss   '"
      ]
     },
     "execution_count": 18,
     "metadata": {},
     "output_type": "execute_result"
    }
   ],
   "source": [
    "'{0: <5}'.format('ss')"
   ]
  },
  {
   "cell_type": "code",
   "execution_count": 27,
   "metadata": {},
   "outputs": [
    {
     "name": "stdout",
     "output_type": "stream",
     "text": [
      "  aaa\n",
      "aaaaaa\n"
     ]
    }
   ],
   "source": [
    "string = '{0: >5}'\n",
    "print(string.format('aaa'))\n",
    "print('{0: >5}'.format('aaaaaa'))"
   ]
  },
  {
   "cell_type": "code",
   "execution_count": 32,
   "metadata": {},
   "outputs": [
    {
     "ename": "SyntaxError",
     "evalue": "(unicode error) 'unicodeescape' codec can't decode bytes in position 0-25: unknown Unicode character name (<ipython-input-32-b0ecc343ee00>, line 4)",
     "output_type": "error",
     "traceback": [
      "\u001b[1;36m  File \u001b[1;32m\"<ipython-input-32-b0ecc343ee00>\"\u001b[1;36m, line \u001b[1;32m4\u001b[0m\n\u001b[1;33m    print(\"{}{}\".format(k,'\\N{GREEK SMALL LETTER ONE}'))\u001b[0m\n\u001b[1;37m                         ^\u001b[0m\n\u001b[1;31mSyntaxError\u001b[0m\u001b[1;31m:\u001b[0m (unicode error) 'unicodeescape' codec can't decode bytes in position 0-25: unknown Unicode character name\n"
     ]
    }
   ],
   "source": [
    "m = int(input())\n",
    "k=1\n",
    "for i in range(m):\n",
    "    print(\"{}{}\".format(k,'\\N{GREEK SMALL LETTER ONE}'))"
   ]
  },
  {
   "cell_type": "code",
   "execution_count": 22,
   "metadata": {},
   "outputs": [
    {
     "name": "stdout",
     "output_type": "stream",
     "text": [
      "10²\n"
     ]
    }
   ],
   "source": [
    "print(\"10{}\".format('\\u00B2'))"
   ]
  },
  {
   "cell_type": "code",
   "execution_count": 25,
   "metadata": {},
   "outputs": [
    {
     "name": "stdout",
     "output_type": "stream",
     "text": [
      "´\n"
     ]
    }
   ],
   "source": [
    "print(chr(0x00B))"
   ]
  },
  {
   "cell_type": "code",
   "execution_count": 4,
   "metadata": {},
   "outputs": [
    {
     "name": "stdout",
     "output_type": "stream",
     "text": [
      "5²\n"
     ]
    }
   ],
   "source": [
    "str1 = '5\\N{SUPERSCRIPT TWO}'\n",
    "\n",
    "print(str1)"
   ]
  },
  {
   "cell_type": "code",
   "execution_count": 29,
   "metadata": {},
   "outputs": [],
   "source": [
    "def value(i):\n",
    "    if i==1:\n",
    "        return '\\N{SUPERSCRIPT ONE}'\n",
    "    elif i==2:\n",
    "        return '\\N{SUPERSCRIPT TWO}'\n",
    "    elif i==3:\n",
    "        return '\\N{SUPERSCRIPT THREE}'\n",
    "    elif i==4:\n",
    "        return '\\N{SUPERSCRIPT FOUR}'\n",
    "    elif i==5:\n",
    "        return '\\N{SUPERSCRIPT FIVE}'\n",
    "    elif i==6:\n",
    "        return '\\N{SUPERSCRIPT SIX}'\n",
    "    elif i==7:\n",
    "        return '\\N{SUPERSCRIPT SEVEN}'\n",
    "    elif i==8:\n",
    "        return '\\N{SUPERSCRIPT EIGHT}'\n",
    "    elif i==9:\n",
    "        return '\\N{SUPERSCRIPT NINE}'\n",
    "    else:\n",
    "        return '\\N{SUPERSCRIPT FOUR}'"
   ]
  },
  {
   "cell_type": "code",
   "execution_count": 122,
   "metadata": {},
   "outputs": [
    {
     "name": "stdout",
     "output_type": "stream",
     "text": [
      "enter the value of m15\n",
      "\n",
      "1¹   2³   3⁵   4⁷   5⁹   6¹¹    7¹³    8¹⁵    9¹⁷    10¹⁹     11²¹     12²³     13²⁵     14²⁷     15²⁹     \n",
      "-- + -- + -- + -- + -- + -- +   --- +  --- +  --- +  ---- +   ---- +   ---- +   ---- +   ---- +   ----\n",
      "3⁴   3⁴   3⁴   3⁴   3⁴   3⁴     3⁴     3⁴     3⁴     3⁴       3⁴       3⁴       3⁴       3⁴       3⁴       \n"
     ]
    }
   ],
   "source": [
    "def value(i):\n",
    "    if i==1:\n",
    "        return '\\N{SUPERSCRIPT ONE}'\n",
    "    elif i==2:\n",
    "        return '\\N{SUPERSCRIPT TWO}'\n",
    "    elif i==3:\n",
    "        return '\\N{SUPERSCRIPT THREE}'\n",
    "    elif i==4:\n",
    "        return '\\N{SUPERSCRIPT FOUR}'\n",
    "    elif i==5:\n",
    "        return '\\N{SUPERSCRIPT FIVE}'\n",
    "    elif i==6:\n",
    "        return '\\N{SUPERSCRIPT SIX}'\n",
    "    elif i==7:\n",
    "        return '\\N{SUPERSCRIPT SEVEN}'\n",
    "    elif i==8:\n",
    "        return '\\N{SUPERSCRIPT EIGHT}'\n",
    "    elif i==9:\n",
    "        return '\\N{SUPERSCRIPT NINE}'\n",
    "    else:\n",
    "        return '\\N{SUPERSCRIPT FOUR}'\n",
    "\n",
    "\n",
    "str1 = ''\n",
    "str2 = ''\n",
    "str3 = ''\n",
    "str4 = '   '\n",
    "str5 = '    '\n",
    "str6 = '     '\n",
    "k=1\n",
    "\n",
    "m = int(input('enter the value of m'))\n",
    "print()\n",
    "for i in range(1,m+1):\n",
    "    str1 = str1+str(i)\n",
    "    digit = list(str(k))\n",
    "    j=0\n",
    "    while(j<len(digit)):\n",
    "        str1 = str1+value(int(digit[j]))\n",
    "        j = j+1\n",
    "    if(i>=10):\n",
    "        str1 = str1+str6\n",
    "        str3 = str3+str(3)+value(4)+str6+'  '\n",
    "    else:\n",
    "        if(i>=6):\n",
    "            str1 = str1 + str5\n",
    "            str3 = str3+str(3)+value(4)+str5+' '\n",
    "        else:\n",
    "            str1 = str1 + str4\n",
    "            str3 = str3+str(3)+value(4)+str4+''\n",
    "    k=k+2\n",
    "print(str1)\n",
    "strr = ''\n",
    "for i in range(m):\n",
    "    if(i<=5):\n",
    "        strr = strr+'-- + '\n",
    "    elif(i>5 and i<=8):\n",
    "        strr = strr+'  --- +'\n",
    "    else:\n",
    "        strr = strr+'  ---- + '\n",
    "if(m<9):\n",
    "    print(strr[:-2])\n",
    "else:\n",
    "    print(strr[:-3])\n",
    "print(str3)"
   ]
  },
  {
   "cell_type": "code",
   "execution_count": 106,
   "metadata": {},
   "outputs": [
    {
     "name": "stdout",
     "output_type": "stream",
     "text": [
      "he ew    "
     ]
    }
   ],
   "source": [
    "print('he','ew',end='')"
   ]
  },
  {
   "cell_type": "code",
   "execution_count": null,
   "metadata": {},
   "outputs": [],
   "source": [
    "\n"
   ]
  }
 ],
 "metadata": {
  "kernelspec": {
   "display_name": "Python 3",
   "language": "python",
   "name": "python3"
  },
  "language_info": {
   "codemirror_mode": {
    "name": "ipython",
    "version": 3
   },
   "file_extension": ".py",
   "mimetype": "text/x-python",
   "name": "python",
   "nbconvert_exporter": "python",
   "pygments_lexer": "ipython3",
   "version": "3.6.5"
  }
 },
 "nbformat": 4,
 "nbformat_minor": 2
}
